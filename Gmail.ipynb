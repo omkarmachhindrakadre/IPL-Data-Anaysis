{
 "cells": [
  {
   "cell_type": "code",
   "execution_count": 5,
   "id": "bbd0ab16",
   "metadata": {},
   "outputs": [],
   "source": [
    "import smtplib, ssl\n"
   ]
  },
  {
   "cell_type": "code",
   "execution_count": null,
   "id": "2623ef89",
   "metadata": {},
   "outputs": [],
   "source": []
  },
  {
   "cell_type": "code",
   "execution_count": 6,
   "id": "a5d87f05",
   "metadata": {},
   "outputs": [],
   "source": [
    "sender_email ='Rushikadre@gmail.com'\n",
    "password ='yaccjhzvlxesqqtd'"
   ]
  },
  {
   "cell_type": "code",
   "execution_count": 7,
   "id": "d0ff86d0",
   "metadata": {},
   "outputs": [],
   "source": [
    "receiver_email =['omkarkadre12@gmail.com','mlkadre01@gmail.com']\n",
    "email_string = f'''Subject: Mail form Simplilearn\n",
    "To: {','.join(receiver_email)}\n",
    "This mail is sent using the python.'''"
   ]
  },
  {
   "cell_type": "code",
   "execution_count": 9,
   "id": "9ae21b40",
   "metadata": {},
   "outputs": [],
   "source": [
    "context = ssl.create_default_context() \n",
    " #Connce the Gamil's SMTP Outgoing MAil server with such context\n",
    "with smtplib.SMTP_SSL(\"smtp.gmail.com\", 465, context=context) as server:\n",
    "    #It will take the login  information from above variable\n",
    "    server.login(sender_email, password)\n",
    "    #sneding mail funcation and the variable have value assigned above\n",
    "    server.sendmail(sender_email, receiver_email, email_string)"
   ]
  },
  {
   "cell_type": "code",
   "execution_count": null,
   "id": "d56ec66c",
   "metadata": {},
   "outputs": [],
   "source": []
  },
  {
   "cell_type": "code",
   "execution_count": null,
   "id": "b9e5263d",
   "metadata": {},
   "outputs": [],
   "source": []
  }
 ],
 "metadata": {
  "kernelspec": {
   "display_name": "Python 3 (ipykernel)",
   "language": "python",
   "name": "python3"
  },
  "language_info": {
   "codemirror_mode": {
    "name": "ipython",
    "version": 3
   },
   "file_extension": ".py",
   "mimetype": "text/x-python",
   "name": "python",
   "nbconvert_exporter": "python",
   "pygments_lexer": "ipython3",
   "version": "3.9.7"
  }
 },
 "nbformat": 4,
 "nbformat_minor": 5
}
